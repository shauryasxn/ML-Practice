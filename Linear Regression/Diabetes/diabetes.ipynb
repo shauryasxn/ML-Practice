{
 "cells": [
  {
   "cell_type": "markdown",
   "metadata": {},
   "source": [
    "### Question\n",
    "Regression: Simple Linear  <br>\n",
    "Dataset : diabetes.csv <br>\n",
    "Apply Data pre-processing (Label Encoding , Data Transformation....) \n",
    "techniques if necessary. <br>\n",
    "Use any one feature of the dataset to train and test the regression model. <br>\n",
    "Also calculate coefficients, residual sum of squares and the coefficient of determination"
   ]
  },
  {
   "cell_type": "code",
   "execution_count": 1,
   "metadata": {},
   "outputs": [],
   "source": [
    "# Import necessary libraries\n",
    "import pandas as pd\n",
    "from sklearn.model_selection import train_test_split\n",
    "from sklearn.linear_model import LinearRegression\n",
    "from sklearn.metrics import mean_squared_error, r2_score\n",
    "from sklearn.preprocessing import LabelEncoder\n"
   ]
  },
  {
   "cell_type": "code",
   "execution_count": 2,
   "metadata": {},
   "outputs": [],
   "source": [
    "# Load the dataset\n",
    "df = pd.read_csv('diabetes.csv')"
   ]
  },
  {
   "cell_type": "code",
   "execution_count": 3,
   "metadata": {},
   "outputs": [],
   "source": [
    "# Use 'Glucose' as the feature for regression\n",
    "X = df[['Glucose']]\n",
    "y = df['Outcome']\n",
    "\n",
    "# Split the data into training and testing sets\n",
    "X_train, X_test, y_train, y_test = train_test_split(X, y, test_size=0.2, random_state=0)"
   ]
  },
  {
   "cell_type": "code",
   "execution_count": 4,
   "metadata": {},
   "outputs": [],
   "source": [
    "# Create a linear regression model\n",
    "model = LinearRegression()\n",
    "\n",
    "# Train the model\n",
    "model.fit(X_train, y_train)\n",
    "\n",
    "# Make predictions on the test set\n",
    "y_pred = model.predict(X_test)"
   ]
  },
  {
   "cell_type": "code",
   "execution_count": 5,
   "metadata": {},
   "outputs": [
    {
     "name": "stdout",
     "output_type": "stream",
     "text": [
      "Coefficients: 0.0069\n",
      "Intercept: -0.4786\n",
      "Residual Sum of Squares (RSS): 24.9717\n",
      "Coefficient of Determination (R-squared): 0.2353\n"
     ]
    }
   ],
   "source": [
    "# Calculate coefficients\n",
    "coefficients = model.coef_\n",
    "intercept = model.intercept_\n",
    "\n",
    "# Calculate the Residual Sum of Squares\n",
    "rss = mean_squared_error(y_test, y_pred) * len(y_test)\n",
    "\n",
    "# Calculate the Coefficient of Determination (R-squared)\n",
    "r_squared = r2_score(y_test, y_pred)\n",
    "\n",
    "# Display the results\n",
    "print(f'Coefficients: {coefficients[0]:.4f}')\n",
    "print(f'Intercept: {intercept:.4f}')\n",
    "print(f'Residual Sum of Squares (RSS): {rss:.4f}')\n",
    "print(f'Coefficient of Determination (R-squared): {r_squared:.4f}')"
   ]
  }
 ],
 "metadata": {
  "kernelspec": {
   "display_name": "base",
   "language": "python",
   "name": "python3"
  },
  "language_info": {
   "codemirror_mode": {
    "name": "ipython",
    "version": 3
   },
   "file_extension": ".py",
   "mimetype": "text/x-python",
   "name": "python",
   "nbconvert_exporter": "python",
   "pygments_lexer": "ipython3",
   "version": "3.11.5"
  }
 },
 "nbformat": 4,
 "nbformat_minor": 2
}
