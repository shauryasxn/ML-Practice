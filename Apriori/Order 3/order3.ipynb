{
 "cells": [
  {
   "cell_type": "markdown",
   "metadata": {},
   "source": [
    "### Question\n",
    "Market Basket Analysis: Apriori Algorithm <br>\n",
    "Dataset: Order3.csv <br>\n",
    "The dataset has 20507 rows and 5 columns of the purchase orders of people from\n",
    "the bakery. <br>\n",
    "These orders can be analysed, and association rules can be generated\n",
    "using Market Basket Analysis by algorithms like Apriori Algorithm. <br>\n",
    "Follow following steps: <br>\n",
    "1. Data Pre-processing\n",
    "2. Generate the list of transactions from the dataset\n",
    "3. Train Apriori algorithm on the dataset\n",
    "4. Visualize the list of rules"
   ]
  },
  {
   "cell_type": "code",
   "execution_count": 1,
   "metadata": {},
   "outputs": [],
   "source": [
    "# Import necessary libraries\n",
    "import pandas as pd\n",
    "from mlxtend.frequent_patterns import apriori, association_rules"
   ]
  },
  {
   "cell_type": "code",
   "execution_count": 2,
   "metadata": {},
   "outputs": [],
   "source": [
    "# Load the dataset\n",
    "df = pd.read_csv('Oder3.csv')"
   ]
  },
  {
   "cell_type": "code",
   "execution_count": 3,
   "metadata": {},
   "outputs": [],
   "source": [
    "# b. Generate the list of transactions from the dataset\n",
    "transactions = df.groupby('TransactionNo')['Items'].apply(list).tolist()"
   ]
  },
  {
   "cell_type": "code",
   "execution_count": 4,
   "metadata": {},
   "outputs": [],
   "source": [
    "# Train Apriori algorithm on the dataset\n",
    "basket = pd.get_dummies(df['Items']).groupby(df['TransactionNo']).max()\n",
    "\n",
    "# Apply the Apriori algorithm\n",
    "frequent_itemsets = apriori(basket, min_support=0.02, use_colnames=True)  \n",
    "rules = association_rules(frequent_itemsets, metric=\"lift\", min_threshold=1)\n"
   ]
  },
  {
   "cell_type": "code",
   "execution_count": 5,
   "metadata": {},
   "outputs": [
    {
     "name": "stdout",
     "output_type": "stream",
     "text": [
      "Frequent Itemsets:\n",
      "    support     itemsets\n",
      "0  0.036344  (Alfajores)\n",
      "1  0.327205      (Bread)\n",
      "2  0.040042    (Brownie)\n",
      "3  0.103856       (Cake)\n",
      "4  0.478394     (Coffee)\n",
      "\n",
      "Association Rules:\n",
      "  antecedents consequents  antecedent support  consequent support   support  \\\n",
      "0    (Pastry)     (Bread)            0.086107            0.327205  0.029160   \n",
      "1     (Bread)    (Pastry)            0.327205            0.086107  0.029160   \n",
      "2    (Coffee)      (Cake)            0.478394            0.103856  0.054728   \n",
      "3      (Cake)    (Coffee)            0.103856            0.478394  0.054728   \n",
      "4       (Tea)      (Cake)            0.142631            0.103856  0.023772   \n",
      "\n",
      "   confidence      lift  leverage  conviction  zhangs_metric  \n",
      "0    0.338650  1.034977  0.000985    1.017305       0.036980  \n",
      "1    0.089119  1.034977  0.000985    1.003306       0.050231  \n",
      "2    0.114399  1.101515  0.005044    1.011905       0.176684  \n",
      "3    0.526958  1.101515  0.005044    1.102664       0.102840  \n",
      "4    0.166667  1.604781  0.008959    1.075372       0.439556  \n"
     ]
    }
   ],
   "source": [
    "# Display frequent itemsets\n",
    "print(\"Frequent Itemsets:\")\n",
    "print(frequent_itemsets.head(5))\n",
    "\n",
    "# Display association rules\n",
    "print(\"\\nAssociation Rules:\")\n",
    "print(rules.head(5))"
   ]
  }
 ],
 "metadata": {
  "kernelspec": {
   "display_name": "base",
   "language": "python",
   "name": "python3"
  },
  "language_info": {
   "codemirror_mode": {
    "name": "ipython",
    "version": 3
   },
   "file_extension": ".py",
   "mimetype": "text/x-python",
   "name": "python",
   "nbconvert_exporter": "python",
   "pygments_lexer": "ipython3",
   "version": "3.11.5"
  }
 },
 "nbformat": 4,
 "nbformat_minor": 2
}
