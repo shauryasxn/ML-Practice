{
 "cells": [
  {
   "cell_type": "markdown",
   "metadata": {},
   "source": [
    "# INCOMPLETE SOLUTION"
   ]
  },
  {
   "cell_type": "markdown",
   "metadata": {},
   "source": [
    "### Question\n",
    "Market Basket Analysis: Apriori Algorithm <br>\n",
    "Dataset: Order1.csv <br>\n",
    "The dataset has 38765 rows of the purchase orders of people from the\n",
    "grocery stores. <br>\n",
    "These orders can be analysed, and association rules can\n",
    "be generated using Market Basket Analysis by algorithms like Apriori\n",
    "Algorithm. <br>\n",
    "Follow following Steps: <br>\n",
    "1. Data Pre-processing\n",
    "2. Generate the list of transactions fromthe dataset\n",
    "3. Train Apriori on the dataset\n",
    "4. Visualize the list of datasets"
   ]
  },
  {
   "cell_type": "code",
   "execution_count": 17,
   "metadata": {},
   "outputs": [],
   "source": [
    "# Import necessary libraries\n",
    "import pandas as pd\n",
    "from mlxtend.frequent_patterns import apriori\n",
    "from mlxtend.frequent_patterns import association_rules\n",
    "import matplotlib.pyplot as plt"
   ]
  },
  {
   "cell_type": "code",
   "execution_count": 4,
   "metadata": {},
   "outputs": [],
   "source": [
    "# Load the dataset\n",
    "df = pd.read_csv('Order1.csv')"
   ]
  },
  {
   "cell_type": "code",
   "execution_count": 5,
   "metadata": {},
   "outputs": [
    {
     "name": "stderr",
     "output_type": "stream",
     "text": [
      "C:\\Users\\shaur\\AppData\\Local\\Temp\\ipykernel_10068\\3821898541.py:2: UserWarning: Parsing dates in %d-%m-%Y format when dayfirst=False (the default) was specified. Pass `dayfirst=True` or specify a format to silence this warning.\n",
      "  df['Date'] = pd.to_datetime(df['Date'])\n"
     ]
    }
   ],
   "source": [
    "# Data Pre-processing\n",
    "df['Date'] = pd.to_datetime(df['Date'])\n",
    "df['itemDescription'] = df['itemDescription'].str.strip()"
   ]
  },
  {
   "cell_type": "code",
   "execution_count": 6,
   "metadata": {},
   "outputs": [],
   "source": [
    "# Generate the list of transactions\n",
    "transactions = df.groupby(['Member_number', 'Date'])['itemDescription'].apply(list).reset_index(name='Transaction')"
   ]
  },
  {
   "cell_type": "code",
   "execution_count": 11,
   "metadata": {},
   "outputs": [
    {
     "name": "stdout",
     "output_type": "stream",
     "text": [
      "List of Datasets:\n",
      "   Member_number       Date                                        Transaction\n",
      "0           1000 2014-06-24                  [whole milk, pastry, salty snack]\n",
      "1           1000 2015-03-15  [sausage, whole milk, semi-finished bread, yog...\n",
      "2           1000 2015-05-27                         [soda, pickled vegetables]\n",
      "3           1000 2015-07-24                     [canned beer, misc. beverages]\n",
      "4           1000 2015-11-25                        [sausage, hygiene articles]\n"
     ]
    }
   ],
   "source": [
    "# Visualize the list of datasets\n",
    "print(\"List of Datasets:\")\n",
    "print(transactions.head(5))"
   ]
  },
  {
   "cell_type": "code",
   "execution_count": 13,
   "metadata": {},
   "outputs": [
    {
     "name": "stderr",
     "output_type": "stream",
     "text": [
      "c:\\Users\\shaur\\anaconda3\\Lib\\site-packages\\mlxtend\\frequent_patterns\\fpcommon.py:110: DeprecationWarning: DataFrames with non-bool types result in worse computationalperformance and their support might be discontinued in the future.Please use a DataFrame with bool type\n",
      "  warnings.warn(\n"
     ]
    }
   ],
   "source": [
    "# Train Apriori on the dataset\n",
    "basket_sets_encoded = transactions['Transaction'].str.join('|').str.get_dummies('|')\n",
    "\n",
    "# Run Apriori \n",
    "frequent_itemsets = apriori(basket_sets_encoded, min_support=0.01, use_colnames=True)\n",
    "\n",
    "# Generate association rules\n",
    "rules = association_rules(frequent_itemsets, metric=\"lift\", min_threshold=1)"
   ]
  },
  {
   "cell_type": "code",
   "execution_count": 23,
   "metadata": {},
   "outputs": [
    {
     "name": "stdout",
     "output_type": "stream",
     "text": [
      "\n",
      "Frequent Itemsets:\n",
      "     support                        itemsets\n",
      "0   0.021386                      (UHT-milk)\n",
      "1   0.033950                          (beef)\n",
      "2   0.021787                       (berries)\n",
      "3   0.016574                     (beverages)\n",
      "4   0.045312                  (bottled beer)\n",
      "..       ...                             ...\n",
      "64  0.010559  (other vegetables, rolls/buns)\n",
      "65  0.014837  (other vegetables, whole milk)\n",
      "66  0.013968        (whole milk, rolls/buns)\n",
      "67  0.011629              (soda, whole milk)\n",
      "68  0.011161            (yogurt, whole milk)\n",
      "\n",
      "[69 rows x 2 columns]\n",
      "Empty DataFrame\n",
      "Columns: [antecedents, consequents, antecedent support, consequent support, support, confidence, lift, leverage, conviction, zhangs_metric]\n",
      "Index: []\n"
     ]
    }
   ],
   "source": [
    "# Visualize frequent itemsets\n",
    "print(\"\\nFrequent Itemsets:\")\n",
    "print(frequent_itemsets)\n",
    "# Assuming you have 'frequent_itemsets' DataFrame containing frequent itemsets\n",
    "from mlxtend.frequent_patterns import association_rules\n",
    "\n",
    "# Adjust min_support and min_threshold (confidence) as needed\n",
    "rules = association_rules(frequent_itemsets, metric=\"confidence\", min_threshold=0.2)\n",
    "print(rules)\n",
    "\n"
   ]
  }
 ],
 "metadata": {
  "kernelspec": {
   "display_name": "base",
   "language": "python",
   "name": "python3"
  },
  "language_info": {
   "codemirror_mode": {
    "name": "ipython",
    "version": 3
   },
   "file_extension": ".py",
   "mimetype": "text/x-python",
   "name": "python",
   "nbconvert_exporter": "python",
   "pygments_lexer": "ipython3",
   "version": "3.11.5"
  }
 },
 "nbformat": 4,
 "nbformat_minor": 2
}
