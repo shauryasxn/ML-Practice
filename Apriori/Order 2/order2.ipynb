{
 "cells": [
  {
   "cell_type": "markdown",
   "metadata": {},
   "source": [
    "### Question \n",
    "Market Basket Analysis: Apriori Algorithm <br>\n",
    "Dataset: Order2.csv <br>\n",
    "This dataset comprises the list of transactions of a retail company over the\n",
    "period of one week. <br>\n",
    "It contains a total of 7501 transaction records where each record consists of the list of items sold in one transaction. <br>\n",
    "Using this record of transactions and items in each transaction, find the association rules between\n",
    "items. <br>\n",
    "There is no header in the dataset and the first row contains the first transaction,\n",
    "so mentioned header = None here while loading dataset. Follow following\n",
    "steps: <br>\n",
    "1. Data Pre-processing\n",
    "2. Generate the list of transactions from the dataset\n",
    "3. Train Apriori algorithm on the dataset\n",
    "4. Visualize the list of rules"
   ]
  },
  {
   "cell_type": "code",
   "execution_count": 2,
   "metadata": {},
   "outputs": [],
   "source": [
    "# Import necessary libraries\n",
    "import pandas as pd\n",
    "from mlxtend.frequent_patterns import apriori, association_rules"
   ]
  },
  {
   "cell_type": "code",
   "execution_count": 3,
   "metadata": {},
   "outputs": [],
   "source": [
    "# Load the dataset\n",
    "df = pd.read_csv('Order2.csv', header=None)"
   ]
  },
  {
   "cell_type": "code",
   "execution_count": 7,
   "metadata": {},
   "outputs": [
    {
     "data": {
      "text/plain": [
       "array([[False,  True,  True, ...,  True, False, False],\n",
       "       [False, False, False, ..., False, False, False],\n",
       "       [False, False, False, ..., False, False, False],\n",
       "       ...,\n",
       "       [False, False, False, ..., False, False, False],\n",
       "       [False, False, False, ..., False, False, False],\n",
       "       [False, False, False, ..., False,  True, False]])"
      ]
     },
     "execution_count": 7,
     "metadata": {},
     "output_type": "execute_result"
    }
   ],
   "source": [
    "# Creating Transactions\n",
    "transactions =[]\n",
    "\n",
    "for i in range(len(df)):\n",
    "    transactions.append(df.iloc[i,:].dropna().tolist())\n",
    "\n",
    "# Encoding\n",
    "from mlxtend.preprocessing import TransactionEncoder\n",
    "te=TransactionEncoder()\n",
    "one_hot_encoded=te.fit(transactions).transform(transactions)\n",
    "one_hot_encoded"
   ]
  },
  {
   "cell_type": "code",
   "execution_count": 9,
   "metadata": {},
   "outputs": [],
   "source": [
    "# New Dataframe\n",
    "ndf = pd.DataFrame(one_hot_encoded,columns=te.columns_)"
   ]
  },
  {
   "cell_type": "code",
   "execution_count": 10,
   "metadata": {},
   "outputs": [],
   "source": [
    "# Frequent Items and Association Rules\n",
    "from mlxtend.frequent_patterns import apriori , association_rules\\\n",
    "\n",
    "frequent_itemsets = apriori(ndf,min_support=0.01,use_colnames=True)\n",
    "rules = association_rules(frequent_itemsets,metric='lift',min_threshold=1)"
   ]
  },
  {
   "cell_type": "code",
   "execution_count": 5,
   "metadata": {},
   "outputs": [
    {
     "name": "stdout",
     "output_type": "stream",
     "text": [
      "Frequent Itemsets:\n",
      "    support          itemsets\n",
      "0  0.020397         (almonds)\n",
      "1  0.033329         (avocado)\n",
      "2  0.010799  (barbecue sauce)\n",
      "3  0.014265       (black tea)\n",
      "4  0.011465      (body spray)\n",
      "\n",
      "Association Rules:\n",
      "  antecedents      consequents  antecedent support  consequent support  \\\n",
      "0   (avocado)  (mineral water)            0.033329            0.238368   \n",
      "1   (burgers)           (eggs)            0.087188            0.179709   \n",
      "2   (burgers)   (french fries)            0.087188            0.170911   \n",
      "3   (burgers)      (green tea)            0.087188            0.132116   \n",
      "4   (burgers)           (milk)            0.087188            0.129583   \n",
      "\n",
      "    support  confidence      lift  leverage  conviction  zhangs_metric  \n",
      "0  0.011598    0.348000  1.459926  0.003654    1.168147       0.325896  \n",
      "1  0.028796    0.330275  1.837830  0.013128    1.224818       0.499424  \n",
      "2  0.021997    0.252294  1.476173  0.007096    1.108844       0.353384  \n",
      "3  0.017464    0.200306  1.516139  0.005945    1.085270       0.372947  \n",
      "4  0.017864    0.204893  1.581175  0.006566    1.094717       0.402667  \n"
     ]
    }
   ],
   "source": [
    "# Display frequent itemsets\n",
    "print(\"Frequent Itemsets:\")\n",
    "print(frequent_itemsets.head(5))\n",
    "\n",
    "# Display association rules\n",
    "print(\"\\nAssociation Rules:\")\n",
    "print(rules.head(5))"
   ]
  }
 ],
 "metadata": {
  "kernelspec": {
   "display_name": "base",
   "language": "python",
   "name": "python3"
  },
  "language_info": {
   "codemirror_mode": {
    "name": "ipython",
    "version": 3
   },
   "file_extension": ".py",
   "mimetype": "text/x-python",
   "name": "python",
   "nbconvert_exporter": "python",
   "pygments_lexer": "ipython3",
   "version": "3.11.5"
  }
 },
 "nbformat": 4,
 "nbformat_minor": 2
}
